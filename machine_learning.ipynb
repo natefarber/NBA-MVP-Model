{
 "cells": [
  {
   "cell_type": "markdown",
   "id": "08811f95-63c5-4f68-ac88-3b1fd4b2eb5c",
   "metadata": {},
   "source": [
    "Now that we have gathered data from Basketball Reference using web scraping, cleaned our data, and conducted some exploratory data analysis, it's time to create our machine learning model to predict who will win the NBA MVP!"
   ]
  },
  {
   "cell_type": "code",
   "execution_count": 110,
   "id": "12788abf-ad69-44b8-98ab-3db2a994e78f",
   "metadata": {},
   "outputs": [],
   "source": [
    "#Import Libraries\n",
    "import pandas as pd\n",
    "import seaborn as sns\n",
    "import matplotlib.pyplot as plt\n",
    "#Machine Learning \n",
    "from sklearn.preprocessing import StandardScaler\n",
    "from sklearn.linear_model import LinearRegression, Ridge, Lasso\n",
    "from sklearn.ensemble import RandomForestRegressor\n",
    "from sklearn.neighbors import KNeighborsRegressor\n",
    "from sklearn.ensemble import GradientBoostingRegressor\n",
    "from sklearn.model_selection import GridSearchCV, KFold\n",
    "\n",
    "#Ignore Warnings\n",
    "import warnings\n",
    "warnings.filterwarnings('ignore')"
   ]
  },
  {
   "cell_type": "code",
   "execution_count": 2,
   "id": "16f61752-3743-4758-9b60-4ecafdfe6d42",
   "metadata": {
    "tags": []
   },
   "outputs": [],
   "source": [
    "#Read in data\n",
    "df = pd.read_csv('all_stats.csv')"
   ]
  },
  {
   "cell_type": "code",
   "execution_count": 3,
   "id": "b03b55ce-8a44-4793-a1c2-c353c628a12c",
   "metadata": {
    "tags": []
   },
   "outputs": [
    {
     "data": {
      "text/html": [
       "<div>\n",
       "<style scoped>\n",
       "    .dataframe tbody tr th:only-of-type {\n",
       "        vertical-align: middle;\n",
       "    }\n",
       "\n",
       "    .dataframe tbody tr th {\n",
       "        vertical-align: top;\n",
       "    }\n",
       "\n",
       "    .dataframe thead th {\n",
       "        text-align: right;\n",
       "    }\n",
       "</style>\n",
       "<table border=\"1\" class=\"dataframe\">\n",
       "  <thead>\n",
       "    <tr style=\"text-align: right;\">\n",
       "      <th></th>\n",
       "      <th>Unnamed: 0</th>\n",
       "      <th>Player</th>\n",
       "      <th>Pos</th>\n",
       "      <th>Age</th>\n",
       "      <th>Tm</th>\n",
       "      <th>G</th>\n",
       "      <th>GS</th>\n",
       "      <th>MP</th>\n",
       "      <th>FG</th>\n",
       "      <th>FGA</th>\n",
       "      <th>...</th>\n",
       "      <th>PF</th>\n",
       "      <th>PTS</th>\n",
       "      <th>Year</th>\n",
       "      <th>Pts Won</th>\n",
       "      <th>Pts Max</th>\n",
       "      <th>Share</th>\n",
       "      <th>Team</th>\n",
       "      <th>Wins</th>\n",
       "      <th>Losses</th>\n",
       "      <th>W%</th>\n",
       "    </tr>\n",
       "  </thead>\n",
       "  <tbody>\n",
       "    <tr>\n",
       "      <th>0</th>\n",
       "      <td>0</td>\n",
       "      <td>A.C. Green</td>\n",
       "      <td>PF</td>\n",
       "      <td>23</td>\n",
       "      <td>LAL</td>\n",
       "      <td>79</td>\n",
       "      <td>72</td>\n",
       "      <td>28.4</td>\n",
       "      <td>4.0</td>\n",
       "      <td>7.4</td>\n",
       "      <td>...</td>\n",
       "      <td>2.2</td>\n",
       "      <td>10.8</td>\n",
       "      <td>1987</td>\n",
       "      <td>0.0</td>\n",
       "      <td>780.0</td>\n",
       "      <td>0.00</td>\n",
       "      <td>Los Angeles Lakers</td>\n",
       "      <td>65</td>\n",
       "      <td>17</td>\n",
       "      <td>0.79268</td>\n",
       "    </tr>\n",
       "    <tr>\n",
       "      <th>1</th>\n",
       "      <td>1</td>\n",
       "      <td>Adrian Branch</td>\n",
       "      <td>SF</td>\n",
       "      <td>23</td>\n",
       "      <td>LAL</td>\n",
       "      <td>32</td>\n",
       "      <td>0</td>\n",
       "      <td>6.8</td>\n",
       "      <td>1.5</td>\n",
       "      <td>3.0</td>\n",
       "      <td>...</td>\n",
       "      <td>1.2</td>\n",
       "      <td>4.3</td>\n",
       "      <td>1987</td>\n",
       "      <td>0.0</td>\n",
       "      <td>780.0</td>\n",
       "      <td>0.00</td>\n",
       "      <td>Los Angeles Lakers</td>\n",
       "      <td>65</td>\n",
       "      <td>17</td>\n",
       "      <td>0.79268</td>\n",
       "    </tr>\n",
       "    <tr>\n",
       "      <th>2</th>\n",
       "      <td>2</td>\n",
       "      <td>Billy Thompson</td>\n",
       "      <td>SF</td>\n",
       "      <td>23</td>\n",
       "      <td>LAL</td>\n",
       "      <td>59</td>\n",
       "      <td>0</td>\n",
       "      <td>12.9</td>\n",
       "      <td>2.4</td>\n",
       "      <td>4.4</td>\n",
       "      <td>...</td>\n",
       "      <td>2.5</td>\n",
       "      <td>5.6</td>\n",
       "      <td>1987</td>\n",
       "      <td>0.0</td>\n",
       "      <td>780.0</td>\n",
       "      <td>0.00</td>\n",
       "      <td>Los Angeles Lakers</td>\n",
       "      <td>65</td>\n",
       "      <td>17</td>\n",
       "      <td>0.79268</td>\n",
       "    </tr>\n",
       "    <tr>\n",
       "      <th>3</th>\n",
       "      <td>3</td>\n",
       "      <td>Byron Scott</td>\n",
       "      <td>SG</td>\n",
       "      <td>25</td>\n",
       "      <td>LAL</td>\n",
       "      <td>82</td>\n",
       "      <td>82</td>\n",
       "      <td>33.3</td>\n",
       "      <td>6.8</td>\n",
       "      <td>13.8</td>\n",
       "      <td>...</td>\n",
       "      <td>2.0</td>\n",
       "      <td>17.0</td>\n",
       "      <td>1987</td>\n",
       "      <td>0.0</td>\n",
       "      <td>780.0</td>\n",
       "      <td>0.00</td>\n",
       "      <td>Los Angeles Lakers</td>\n",
       "      <td>65</td>\n",
       "      <td>17</td>\n",
       "      <td>0.79268</td>\n",
       "    </tr>\n",
       "    <tr>\n",
       "      <th>4</th>\n",
       "      <td>4</td>\n",
       "      <td>James Worthy</td>\n",
       "      <td>SF</td>\n",
       "      <td>25</td>\n",
       "      <td>LAL</td>\n",
       "      <td>82</td>\n",
       "      <td>82</td>\n",
       "      <td>34.4</td>\n",
       "      <td>7.9</td>\n",
       "      <td>14.7</td>\n",
       "      <td>...</td>\n",
       "      <td>2.5</td>\n",
       "      <td>19.4</td>\n",
       "      <td>1987</td>\n",
       "      <td>0.0</td>\n",
       "      <td>780.0</td>\n",
       "      <td>0.00</td>\n",
       "      <td>Los Angeles Lakers</td>\n",
       "      <td>65</td>\n",
       "      <td>17</td>\n",
       "      <td>0.79268</td>\n",
       "    </tr>\n",
       "    <tr>\n",
       "      <th>5</th>\n",
       "      <td>5</td>\n",
       "      <td>Kareem Abdul-Jabbar</td>\n",
       "      <td>C</td>\n",
       "      <td>39</td>\n",
       "      <td>LAL</td>\n",
       "      <td>78</td>\n",
       "      <td>78</td>\n",
       "      <td>31.3</td>\n",
       "      <td>7.2</td>\n",
       "      <td>12.7</td>\n",
       "      <td>...</td>\n",
       "      <td>3.1</td>\n",
       "      <td>17.5</td>\n",
       "      <td>1987</td>\n",
       "      <td>0.0</td>\n",
       "      <td>780.0</td>\n",
       "      <td>0.00</td>\n",
       "      <td>Los Angeles Lakers</td>\n",
       "      <td>65</td>\n",
       "      <td>17</td>\n",
       "      <td>0.79268</td>\n",
       "    </tr>\n",
       "    <tr>\n",
       "      <th>6</th>\n",
       "      <td>6</td>\n",
       "      <td>Kurt Rambis</td>\n",
       "      <td>PF</td>\n",
       "      <td>28</td>\n",
       "      <td>LAL</td>\n",
       "      <td>78</td>\n",
       "      <td>10</td>\n",
       "      <td>19.4</td>\n",
       "      <td>2.1</td>\n",
       "      <td>4.0</td>\n",
       "      <td>...</td>\n",
       "      <td>2.6</td>\n",
       "      <td>5.7</td>\n",
       "      <td>1987</td>\n",
       "      <td>0.0</td>\n",
       "      <td>780.0</td>\n",
       "      <td>0.00</td>\n",
       "      <td>Los Angeles Lakers</td>\n",
       "      <td>65</td>\n",
       "      <td>17</td>\n",
       "      <td>0.79268</td>\n",
       "    </tr>\n",
       "    <tr>\n",
       "      <th>7</th>\n",
       "      <td>7</td>\n",
       "      <td>Magic Johnson</td>\n",
       "      <td>PG</td>\n",
       "      <td>27</td>\n",
       "      <td>LAL</td>\n",
       "      <td>80</td>\n",
       "      <td>80</td>\n",
       "      <td>36.3</td>\n",
       "      <td>8.5</td>\n",
       "      <td>16.4</td>\n",
       "      <td>...</td>\n",
       "      <td>2.1</td>\n",
       "      <td>23.9</td>\n",
       "      <td>1987</td>\n",
       "      <td>733.0</td>\n",
       "      <td>780.0</td>\n",
       "      <td>0.94</td>\n",
       "      <td>Los Angeles Lakers</td>\n",
       "      <td>65</td>\n",
       "      <td>17</td>\n",
       "      <td>0.79268</td>\n",
       "    </tr>\n",
       "    <tr>\n",
       "      <th>8</th>\n",
       "      <td>8</td>\n",
       "      <td>Michael Cooper</td>\n",
       "      <td>SG</td>\n",
       "      <td>30</td>\n",
       "      <td>LAL</td>\n",
       "      <td>82</td>\n",
       "      <td>2</td>\n",
       "      <td>27.5</td>\n",
       "      <td>3.9</td>\n",
       "      <td>9.0</td>\n",
       "      <td>...</td>\n",
       "      <td>2.4</td>\n",
       "      <td>10.5</td>\n",
       "      <td>1987</td>\n",
       "      <td>0.0</td>\n",
       "      <td>780.0</td>\n",
       "      <td>0.00</td>\n",
       "      <td>Los Angeles Lakers</td>\n",
       "      <td>65</td>\n",
       "      <td>17</td>\n",
       "      <td>0.79268</td>\n",
       "    </tr>\n",
       "    <tr>\n",
       "      <th>9</th>\n",
       "      <td>9</td>\n",
       "      <td>Mike Smrek</td>\n",
       "      <td>C</td>\n",
       "      <td>24</td>\n",
       "      <td>LAL</td>\n",
       "      <td>35</td>\n",
       "      <td>3</td>\n",
       "      <td>6.7</td>\n",
       "      <td>0.9</td>\n",
       "      <td>1.7</td>\n",
       "      <td>...</td>\n",
       "      <td>2.0</td>\n",
       "      <td>2.2</td>\n",
       "      <td>1987</td>\n",
       "      <td>0.0</td>\n",
       "      <td>780.0</td>\n",
       "      <td>0.00</td>\n",
       "      <td>Los Angeles Lakers</td>\n",
       "      <td>65</td>\n",
       "      <td>17</td>\n",
       "      <td>0.79268</td>\n",
       "    </tr>\n",
       "  </tbody>\n",
       "</table>\n",
       "<p>10 rows × 38 columns</p>\n",
       "</div>"
      ],
      "text/plain": [
       "   Unnamed: 0               Player Pos  Age   Tm   G  GS    MP   FG   FGA  \\\n",
       "0           0           A.C. Green  PF   23  LAL  79  72  28.4  4.0   7.4   \n",
       "1           1        Adrian Branch  SF   23  LAL  32   0   6.8  1.5   3.0   \n",
       "2           2       Billy Thompson  SF   23  LAL  59   0  12.9  2.4   4.4   \n",
       "3           3          Byron Scott  SG   25  LAL  82  82  33.3  6.8  13.8   \n",
       "4           4         James Worthy  SF   25  LAL  82  82  34.4  7.9  14.7   \n",
       "5           5  Kareem Abdul-Jabbar   C   39  LAL  78  78  31.3  7.2  12.7   \n",
       "6           6          Kurt Rambis  PF   28  LAL  78  10  19.4  2.1   4.0   \n",
       "7           7        Magic Johnson  PG   27  LAL  80  80  36.3  8.5  16.4   \n",
       "8           8       Michael Cooper  SG   30  LAL  82   2  27.5  3.9   9.0   \n",
       "9           9           Mike Smrek   C   24  LAL  35   3   6.7  0.9   1.7   \n",
       "\n",
       "   ...   PF   PTS  Year  Pts Won  Pts Max  Share                Team  Wins  \\\n",
       "0  ...  2.2  10.8  1987      0.0    780.0   0.00  Los Angeles Lakers    65   \n",
       "1  ...  1.2   4.3  1987      0.0    780.0   0.00  Los Angeles Lakers    65   \n",
       "2  ...  2.5   5.6  1987      0.0    780.0   0.00  Los Angeles Lakers    65   \n",
       "3  ...  2.0  17.0  1987      0.0    780.0   0.00  Los Angeles Lakers    65   \n",
       "4  ...  2.5  19.4  1987      0.0    780.0   0.00  Los Angeles Lakers    65   \n",
       "5  ...  3.1  17.5  1987      0.0    780.0   0.00  Los Angeles Lakers    65   \n",
       "6  ...  2.6   5.7  1987      0.0    780.0   0.00  Los Angeles Lakers    65   \n",
       "7  ...  2.1  23.9  1987    733.0    780.0   0.94  Los Angeles Lakers    65   \n",
       "8  ...  2.4  10.5  1987      0.0    780.0   0.00  Los Angeles Lakers    65   \n",
       "9  ...  2.0   2.2  1987      0.0    780.0   0.00  Los Angeles Lakers    65   \n",
       "\n",
       "   Losses       W%  \n",
       "0      17  0.79268  \n",
       "1      17  0.79268  \n",
       "2      17  0.79268  \n",
       "3      17  0.79268  \n",
       "4      17  0.79268  \n",
       "5      17  0.79268  \n",
       "6      17  0.79268  \n",
       "7      17  0.79268  \n",
       "8      17  0.79268  \n",
       "9      17  0.79268  \n",
       "\n",
       "[10 rows x 38 columns]"
      ]
     },
     "execution_count": 3,
     "metadata": {},
     "output_type": "execute_result"
    }
   ],
   "source": [
    "df.head(10)"
   ]
  },
  {
   "cell_type": "code",
   "execution_count": 4,
   "id": "3eeafdee-5a2d-4e56-8def-ecf822cbbf5b",
   "metadata": {
    "tags": []
   },
   "outputs": [],
   "source": [
    "#Delete Unwanted Column\n",
    "del df['Unnamed: 0']"
   ]
  },
  {
   "cell_type": "markdown",
   "id": "ad4c4a7f-dfb1-4729-9d5e-a55da8f67d01",
   "metadata": {},
   "source": [
    "# Missing Data"
   ]
  },
  {
   "cell_type": "code",
   "execution_count": 5,
   "id": "da881039-c239-40b5-9701-c35adadde178",
   "metadata": {
    "tags": []
   },
   "outputs": [
    {
     "data": {
      "text/plain": [
       "3P%        2333\n",
       "FT%         574\n",
       "2P%         110\n",
       "eFG%         64\n",
       "FG%          64\n",
       "Player        0\n",
       "PF            0\n",
       "AST           0\n",
       "STL           0\n",
       "BLK           0\n",
       "TOV           0\n",
       "PTS           0\n",
       "DRB           0\n",
       "Year          0\n",
       "Pts Won       0\n",
       "Pts Max       0\n",
       "Share         0\n",
       "Team          0\n",
       "Wins          0\n",
       "Losses        0\n",
       "TRB           0\n",
       "FTA           0\n",
       "ORB           0\n",
       "Pos           0\n",
       "FT            0\n",
       "2PA           0\n",
       "2P            0\n",
       "3PA           0\n",
       "3P            0\n",
       "FGA           0\n",
       "FG            0\n",
       "MP            0\n",
       "GS            0\n",
       "G             0\n",
       "Tm            0\n",
       "Age           0\n",
       "W%            0\n",
       "dtype: int64"
      ]
     },
     "execution_count": 5,
     "metadata": {},
     "output_type": "execute_result"
    }
   ],
   "source": [
    "df.isna().sum().sort_values(ascending=False)"
   ]
  },
  {
   "cell_type": "markdown",
   "id": "cc5bf824-d90a-47b0-8631-088aabae56ea",
   "metadata": {},
   "source": [
    "It does appear that we do have some missing data. My assumption is that the missing data is for players who did not attempt a shot in the given category. For example, if a player never shot a 3, then their 3P% would be missing. Lets check this. "
   ]
  },
  {
   "cell_type": "code",
   "execution_count": 6,
   "id": "e63edb89-29fa-4d30-b5af-ccbae9bf6618",
   "metadata": {
    "tags": []
   },
   "outputs": [
    {
     "data": {
      "text/plain": [
       "0.0    2333\n",
       "Name: 3PA, dtype: int64"
      ]
     },
     "execution_count": 6,
     "metadata": {},
     "output_type": "execute_result"
    }
   ],
   "source": [
    "#Define dataframe with null 3P%\n",
    "null_3P = df[df['3P%'].isnull()]\n",
    "#Show 3PA Data\n",
    "null_3P['3PA'].value_counts()"
   ]
  },
  {
   "cell_type": "markdown",
   "id": "b7548995-7dc6-4ea7-b439-4e6731838d78",
   "metadata": {},
   "source": [
    "Looks like everyone who has missing data for 3P% also has 0 3PA. Thus, it does appear as those with null values never attempted a shot. Now we can explore the other categories with missing data. It is likely the same reasoning as 3P% applies. "
   ]
  },
  {
   "cell_type": "code",
   "execution_count": 7,
   "id": "6dfd5ce0-3d41-4ad5-a6cc-7e6faf149c08",
   "metadata": {
    "tags": []
   },
   "outputs": [
    {
     "name": "stdout",
     "output_type": "stream",
     "text": [
      "Null Value: FT%\n",
      "0.0    574\n",
      "Name: FTA, dtype: int64\n",
      "\n",
      "Null Value: 2P%\n",
      "0.0    110\n",
      "Name: 2PA, dtype: int64\n",
      "\n",
      "Null Value: eFG%\n",
      "0.0    64\n",
      "Name: FGA, dtype: int64\n",
      "\n",
      "Null Value: FG%\n",
      "0.0    64\n",
      "Name: FGA, dtype: int64\n",
      "\n"
     ]
    }
   ],
   "source": [
    "#Dictionary with the null values and attempts\n",
    "null_values = {\n",
    "    'FT%': 'FTA',\n",
    "    '2P%': '2PA',\n",
    "    'eFG%': 'FGA',\n",
    "    'FG%': 'FGA',\n",
    "}\n",
    "\n",
    "for null_key, attempt_key in null_values.items():\n",
    "    null_rows = df[df[null_key].isnull()]\n",
    "    value_counts = null_rows[attempt_key].value_counts()\n",
    "    print(f'Null Value: {null_key}')\n",
    "    print(value_counts)\n",
    "    print()"
   ]
  },
  {
   "cell_type": "markdown",
   "id": "7fd6aa90-94b4-48be-94e6-faf11f8ef8b3",
   "metadata": {},
   "source": [
    "Looks like for all of the columns with missing data it is because the player has never taken that type of shot. To fill the missing values I will use the median for that position. We could also drop the rows with missing values; however, there are rare cases where players who do not attempt 3s are in the MVP running. For example, Shaquille O'Neal has had multiple season where he attempted 0 3 point shots but won the MVP in the 1999-2000 season. "
   ]
  },
  {
   "cell_type": "code",
   "execution_count": 8,
   "id": "05755ff3-77b6-4af1-aead-b5ff1f6c7838",
   "metadata": {
    "tags": []
   },
   "outputs": [],
   "source": [
    "# Assuming 'Position' is the column that specifies the player's position\n",
    "columns_to_fill = ['3P%', 'FT%', '2P%', 'eFG%', 'FG%']\n",
    "for column in columns_to_fill:\n",
    "    median_by_position = df.groupby('Pos')[column].transform('median')\n",
    "    df[column].fillna(median_by_position, inplace=True)"
   ]
  },
  {
   "cell_type": "code",
   "execution_count": 9,
   "id": "e28f29ee-ff3d-44ab-9d5f-b8f4f038fc34",
   "metadata": {
    "tags": []
   },
   "outputs": [
    {
     "data": {
      "text/plain": [
       "Player     0\n",
       "FT%        0\n",
       "DRB        0\n",
       "TRB        0\n",
       "AST        0\n",
       "STL        0\n",
       "BLK        0\n",
       "TOV        0\n",
       "PF         0\n",
       "PTS        0\n",
       "Year       0\n",
       "Pts Won    0\n",
       "Pts Max    0\n",
       "Share      0\n",
       "Team       0\n",
       "Wins       0\n",
       "Losses     0\n",
       "ORB        0\n",
       "FTA        0\n",
       "Pos        0\n",
       "FT         0\n",
       "Age        0\n",
       "Tm         0\n",
       "G          0\n",
       "GS         0\n",
       "MP         0\n",
       "FG         0\n",
       "FGA        0\n",
       "FG%        0\n",
       "3P         0\n",
       "3PA        0\n",
       "3P%        0\n",
       "2P         0\n",
       "2PA        0\n",
       "2P%        0\n",
       "eFG%       0\n",
       "W%         0\n",
       "dtype: int64"
      ]
     },
     "execution_count": 9,
     "metadata": {},
     "output_type": "execute_result"
    }
   ],
   "source": [
    "df.isna().sum().sort_values(ascending=False)"
   ]
  },
  {
   "cell_type": "markdown",
   "id": "645d9002-6f59-49fc-aa4e-83ac87e7ccc3",
   "metadata": {},
   "source": [
    "No more missing data, nice! Now we need to use dummy variables for the Position and Team columns"
   ]
  },
  {
   "cell_type": "markdown",
   "id": "5f781b77-13ff-43dc-b8ba-35fea88e9a31",
   "metadata": {},
   "source": [
    "# Feature Engineering"
   ]
  },
  {
   "cell_type": "code",
   "execution_count": 10,
   "id": "3b9c718c-2bb7-4290-9425-4c64c8bb1476",
   "metadata": {
    "tags": []
   },
   "outputs": [],
   "source": [
    "# Create dummy variables for the Pos column\n",
    "position_dummies = pd.get_dummies(df['Pos'],)\n",
    "team_dummies = pd.get_dummies(df['Team'])\n",
    "df_with_dummies = pd.concat([df, position_dummies, team_dummies], axis=1)\n",
    "df_with_dummies.drop('Pos', axis=1, inplace=True)\n",
    "df_with_dummies.drop('Team', axis=1, inplace=True)"
   ]
  },
  {
   "cell_type": "markdown",
   "id": "a15e9d1c-d6f4-4004-8926-975c575c7630",
   "metadata": {},
   "source": [
    "We will now add features that meassure if a player scored above average for the year in the points, rebounds, assists, blocks, and steals categories. "
   ]
  },
  {
   "cell_type": "code",
   "execution_count": 11,
   "id": "95878b0e-0800-4fb9-894f-0ceaa9e6c6a6",
   "metadata": {
    "tags": []
   },
   "outputs": [],
   "source": [
    "average_stats_for_year = df_with_dummies.groupby('Year')[['PTS', 'ORB', 'DRB', 'TRB', 'STL', 'AST', 'BLK']].transform('mean')\n",
    "# Calculate the new columns by dividing player's statistics by average statistics for their year\n",
    "statistics_columns = ['PTS', 'ORB', 'DRB', 'TRB', 'STL', 'AST', 'BLK']\n",
    "for col in statistics_columns:\n",
    "    df_with_dummies[f'{col}_C'] = df_with_dummies[col] / average_stats_for_year[col]"
   ]
  },
  {
   "cell_type": "code",
   "execution_count": 12,
   "id": "38964f94-3075-403d-9248-0af548588f6b",
   "metadata": {
    "tags": []
   },
   "outputs": [
    {
     "data": {
      "text/plain": [
       "Index(['Player', 'Age', 'Tm', 'G', 'GS', 'MP', 'FG', 'FGA', 'FG%', '3P', '3PA',\n",
       "       '3P%', '2P', '2PA', '2P%', 'eFG%', 'FT', 'FTA', 'FT%', 'ORB', 'DRB',\n",
       "       'TRB', 'AST', 'STL', 'BLK', 'TOV', 'PF', 'PTS', 'Year', 'Pts Won',\n",
       "       'Pts Max', 'Share', 'Wins', 'Losses', 'W%', 'C', 'C-PF', 'PF', 'PF-C',\n",
       "       'PF-SF', 'PG', 'PG-SF', 'PG-SG', 'SF', 'SF-C', 'SF-PF', 'SF-SG', 'SG',\n",
       "       'SG-PF', 'SG-PG', 'SG-PG-SF', 'SG-SF', 'Atlanta Hawks',\n",
       "       'Boston Celtics', 'Brooklyn Nets', 'Charlotte Bobcats',\n",
       "       'Charlotte Hornets', 'Chicago Bulls', 'Cleveland Cavaliers',\n",
       "       'Dallas Mavericks', 'Denver Nuggets', 'Detroit Pistons',\n",
       "       'Golden State Warriors', 'Houston Rockets', 'Indiana Pacers',\n",
       "       'Los Angeles Clippers', 'Los Angeles Lakers', 'Memphis Grizzlies',\n",
       "       'Miami Heat', 'Milwaukee Bucks', 'Minnesota Timberwolves',\n",
       "       'New Jersey Nets', 'New Orleans Hornets', 'New Orleans Pelicans',\n",
       "       'New Orleans/Oklahoma City Hornets', 'New York Knicks',\n",
       "       'Oklahoma City Thunder', 'Orlando Magic', 'Philadelphia 76ers',\n",
       "       'Phoenix Suns', 'Portland Trail Blazers', 'Sacramento Kings',\n",
       "       'San Antonio Spurs', 'Seattle SuperSonics', 'Toronto Raptors',\n",
       "       'Utah Jazz', 'Vancouver Grizzlies', 'Washington Bullets',\n",
       "       'Washington Wizards', 'PTS_C', 'ORB_C', 'DRB_C', 'TRB_C', 'STL_C',\n",
       "       'AST_C', 'BLK_C'],\n",
       "      dtype='object')"
      ]
     },
     "execution_count": 12,
     "metadata": {},
     "output_type": "execute_result"
    }
   ],
   "source": [
    "df_with_dummies.columns"
   ]
  },
  {
   "cell_type": "code",
   "execution_count": 13,
   "id": "e7445098-5d51-44eb-be3f-707b453ca75a",
   "metadata": {
    "tags": []
   },
   "outputs": [],
   "source": [
    "features = ['Age', 'G', 'GS', 'MP', 'FG', 'FGA', 'FG%', '3P',\n",
    "       '3PA', '3P%', '2P', '2PA', '2P%', 'eFG%', 'FT', 'FTA', 'FT%', 'ORB',\n",
    "       'DRB', 'TRB', 'AST', 'STL', 'BLK', 'TOV', 'PF', 'PTS', 'Year',\n",
    "       'Wins', 'Losses', 'W%', 'C', 'C-PF', 'PF', 'PF-C',\n",
    "       'PF-SF', 'PG', 'PG-SF', 'PG-SG', 'SF', 'SF-C', 'SF-PF', 'SF-SG', 'SG',\n",
    "       'SG-PF', 'SG-PG', 'SG-PG-SF', 'SG-SF', 'Atlanta Hawks',\n",
    "       'Boston Celtics', 'Brooklyn Nets', 'Charlotte Bobcats',\n",
    "       'Charlotte Hornets', 'Chicago Bulls', 'Cleveland Cavaliers',\n",
    "       'Dallas Mavericks', 'Denver Nuggets', 'Detroit Pistons',\n",
    "       'Golden State Warriors', 'Houston Rockets', 'Indiana Pacers',\n",
    "       'Los Angeles Clippers', 'Los Angeles Lakers', 'Memphis Grizzlies',\n",
    "       'Miami Heat', 'Milwaukee Bucks', 'Minnesota Timberwolves',\n",
    "       'New Jersey Nets', 'New Orleans Hornets', 'New Orleans Pelicans',\n",
    "       'New Orleans/Oklahoma City Hornets', 'New York Knicks',\n",
    "       'Oklahoma City Thunder', 'Orlando Magic', 'Philadelphia 76ers',\n",
    "       'Phoenix Suns', 'Portland Trail Blazers', 'Sacramento Kings',\n",
    "       'San Antonio Spurs', 'Seattle SuperSonics', 'Toronto Raptors',\n",
    "       'Utah Jazz', 'Vancouver Grizzlies', 'Washington Bullets',\n",
    "       'Washington Wizards','PTS_C', 'ORB_C', 'DRB_C', 'TRB_C', 'STL_C',\n",
    "       'AST_C', 'BLK_C']"
   ]
  },
  {
   "cell_type": "markdown",
   "id": "849036cc-aafd-46f7-914f-43b4f85466d6",
   "metadata": {},
   "source": [
    "Now we need to define our train and test data. We will use the data from 1987-2022 as the training data and then test on the 2023 season."
   ]
  },
  {
   "cell_type": "code",
   "execution_count": 14,
   "id": "7518514a-4385-48a5-9106-5c11700a506c",
   "metadata": {
    "tags": []
   },
   "outputs": [],
   "source": [
    "#Training vs Testing\n",
    "train = df_with_dummies[df_with_dummies['Year'] < 2023]\n",
    "test = df_with_dummies[df_with_dummies['Year'] == 2023]"
   ]
  },
  {
   "cell_type": "code",
   "execution_count": 15,
   "id": "8dfe9728-6a1f-42e3-b327-d3989080a0b4",
   "metadata": {
    "tags": []
   },
   "outputs": [],
   "source": [
    "X_train = train[features]\n",
    "y_train = train['Share']\n",
    "X_test = test[features]\n",
    "y_test = test['Share']"
   ]
  },
  {
   "cell_type": "markdown",
   "id": "1b32957e-c319-43b0-abd0-13ef0acae8c9",
   "metadata": {},
   "source": [
    "# Model"
   ]
  },
  {
   "cell_type": "markdown",
   "id": "d9667494-17d6-4f49-81ca-529a351abc09",
   "metadata": {},
   "source": [
    "Lets start by trying a simple ridge regression model before finding a model that works best."
   ]
  },
  {
   "cell_type": "code",
   "execution_count": 16,
   "id": "2cf02ecf-e4bd-4f26-8298-9da489595606",
   "metadata": {
    "tags": []
   },
   "outputs": [
    {
     "data": {
      "text/html": [
       "<style>#sk-container-id-1 {color: black;background-color: white;}#sk-container-id-1 pre{padding: 0;}#sk-container-id-1 div.sk-toggleable {background-color: white;}#sk-container-id-1 label.sk-toggleable__label {cursor: pointer;display: block;width: 100%;margin-bottom: 0;padding: 0.3em;box-sizing: border-box;text-align: center;}#sk-container-id-1 label.sk-toggleable__label-arrow:before {content: \"▸\";float: left;margin-right: 0.25em;color: #696969;}#sk-container-id-1 label.sk-toggleable__label-arrow:hover:before {color: black;}#sk-container-id-1 div.sk-estimator:hover label.sk-toggleable__label-arrow:before {color: black;}#sk-container-id-1 div.sk-toggleable__content {max-height: 0;max-width: 0;overflow: hidden;text-align: left;background-color: #f0f8ff;}#sk-container-id-1 div.sk-toggleable__content pre {margin: 0.2em;color: black;border-radius: 0.25em;background-color: #f0f8ff;}#sk-container-id-1 input.sk-toggleable__control:checked~div.sk-toggleable__content {max-height: 200px;max-width: 100%;overflow: auto;}#sk-container-id-1 input.sk-toggleable__control:checked~label.sk-toggleable__label-arrow:before {content: \"▾\";}#sk-container-id-1 div.sk-estimator input.sk-toggleable__control:checked~label.sk-toggleable__label {background-color: #d4ebff;}#sk-container-id-1 div.sk-label input.sk-toggleable__control:checked~label.sk-toggleable__label {background-color: #d4ebff;}#sk-container-id-1 input.sk-hidden--visually {border: 0;clip: rect(1px 1px 1px 1px);clip: rect(1px, 1px, 1px, 1px);height: 1px;margin: -1px;overflow: hidden;padding: 0;position: absolute;width: 1px;}#sk-container-id-1 div.sk-estimator {font-family: monospace;background-color: #f0f8ff;border: 1px dotted black;border-radius: 0.25em;box-sizing: border-box;margin-bottom: 0.5em;}#sk-container-id-1 div.sk-estimator:hover {background-color: #d4ebff;}#sk-container-id-1 div.sk-parallel-item::after {content: \"\";width: 100%;border-bottom: 1px solid gray;flex-grow: 1;}#sk-container-id-1 div.sk-label:hover label.sk-toggleable__label {background-color: #d4ebff;}#sk-container-id-1 div.sk-serial::before {content: \"\";position: absolute;border-left: 1px solid gray;box-sizing: border-box;top: 0;bottom: 0;left: 50%;z-index: 0;}#sk-container-id-1 div.sk-serial {display: flex;flex-direction: column;align-items: center;background-color: white;padding-right: 0.2em;padding-left: 0.2em;position: relative;}#sk-container-id-1 div.sk-item {position: relative;z-index: 1;}#sk-container-id-1 div.sk-parallel {display: flex;align-items: stretch;justify-content: center;background-color: white;position: relative;}#sk-container-id-1 div.sk-item::before, #sk-container-id-1 div.sk-parallel-item::before {content: \"\";position: absolute;border-left: 1px solid gray;box-sizing: border-box;top: 0;bottom: 0;left: 50%;z-index: -1;}#sk-container-id-1 div.sk-parallel-item {display: flex;flex-direction: column;z-index: 1;position: relative;background-color: white;}#sk-container-id-1 div.sk-parallel-item:first-child::after {align-self: flex-end;width: 50%;}#sk-container-id-1 div.sk-parallel-item:last-child::after {align-self: flex-start;width: 50%;}#sk-container-id-1 div.sk-parallel-item:only-child::after {width: 0;}#sk-container-id-1 div.sk-dashed-wrapped {border: 1px dashed gray;margin: 0 0.4em 0.5em 0.4em;box-sizing: border-box;padding-bottom: 0.4em;background-color: white;}#sk-container-id-1 div.sk-label label {font-family: monospace;font-weight: bold;display: inline-block;line-height: 1.2em;}#sk-container-id-1 div.sk-label-container {text-align: center;}#sk-container-id-1 div.sk-container {/* jupyter's `normalize.less` sets `[hidden] { display: none; }` but bootstrap.min.css set `[hidden] { display: none !important; }` so we also need the `!important` here to be able to override the default hidden behavior on the sphinx rendered scikit-learn.org. See: https://github.com/scikit-learn/scikit-learn/issues/21755 */display: inline-block !important;position: relative;}#sk-container-id-1 div.sk-text-repr-fallback {display: none;}</style><div id=\"sk-container-id-1\" class=\"sk-top-container\"><div class=\"sk-text-repr-fallback\"><pre>Ridge(alpha=0.1)</pre><b>In a Jupyter environment, please rerun this cell to show the HTML representation or trust the notebook. <br />On GitHub, the HTML representation is unable to render, please try loading this page with nbviewer.org.</b></div><div class=\"sk-container\" hidden><div class=\"sk-item\"><div class=\"sk-estimator sk-toggleable\"><input class=\"sk-toggleable__control sk-hidden--visually\" id=\"sk-estimator-id-1\" type=\"checkbox\" checked><label for=\"sk-estimator-id-1\" class=\"sk-toggleable__label sk-toggleable__label-arrow\">Ridge</label><div class=\"sk-toggleable__content\"><pre>Ridge(alpha=0.1)</pre></div></div></div></div></div>"
      ],
      "text/plain": [
       "Ridge(alpha=0.1)"
      ]
     },
     "execution_count": 16,
     "metadata": {},
     "output_type": "execute_result"
    }
   ],
   "source": [
    "#Ridge Regression\n",
    "Ridge = Ridge(alpha=.1)\n",
    "Ridge.fit(X_train, y_train)"
   ]
  },
  {
   "cell_type": "code",
   "execution_count": 17,
   "id": "83b83517-b62c-4f90-b05d-65786992c480",
   "metadata": {
    "tags": []
   },
   "outputs": [],
   "source": [
    "pred = Ridge.predict(X_test)"
   ]
  },
  {
   "cell_type": "code",
   "execution_count": 18,
   "id": "994fff23-20ed-4382-a997-bc982347f6cf",
   "metadata": {
    "tags": []
   },
   "outputs": [],
   "source": [
    "pred = pd.DataFrame(pred, columns=['Predicted Share'], index=test.index)"
   ]
  },
  {
   "cell_type": "code",
   "execution_count": 19,
   "id": "7cd98245-e874-4066-b159-05ab245b7070",
   "metadata": {
    "tags": []
   },
   "outputs": [
    {
     "data": {
      "text/html": [
       "<div>\n",
       "<style scoped>\n",
       "    .dataframe tbody tr th:only-of-type {\n",
       "        vertical-align: middle;\n",
       "    }\n",
       "\n",
       "    .dataframe tbody tr th {\n",
       "        vertical-align: top;\n",
       "    }\n",
       "\n",
       "    .dataframe thead th {\n",
       "        text-align: right;\n",
       "    }\n",
       "</style>\n",
       "<table border=\"1\" class=\"dataframe\">\n",
       "  <thead>\n",
       "    <tr style=\"text-align: right;\">\n",
       "      <th></th>\n",
       "      <th>Predicted Share</th>\n",
       "    </tr>\n",
       "  </thead>\n",
       "  <tbody>\n",
       "    <tr>\n",
       "      <th>264</th>\n",
       "      <td>0.007772</td>\n",
       "    </tr>\n",
       "    <tr>\n",
       "      <th>265</th>\n",
       "      <td>0.024093</td>\n",
       "    </tr>\n",
       "    <tr>\n",
       "      <th>266</th>\n",
       "      <td>0.011023</td>\n",
       "    </tr>\n",
       "    <tr>\n",
       "      <th>267</th>\n",
       "      <td>0.197300</td>\n",
       "    </tr>\n",
       "    <tr>\n",
       "      <th>268</th>\n",
       "      <td>-0.002102</td>\n",
       "    </tr>\n",
       "    <tr>\n",
       "      <th>269</th>\n",
       "      <td>-0.014238</td>\n",
       "    </tr>\n",
       "    <tr>\n",
       "      <th>270</th>\n",
       "      <td>-0.003205</td>\n",
       "    </tr>\n",
       "    <tr>\n",
       "      <th>271</th>\n",
       "      <td>-0.018103</td>\n",
       "    </tr>\n",
       "    <tr>\n",
       "      <th>272</th>\n",
       "      <td>-0.007461</td>\n",
       "    </tr>\n",
       "    <tr>\n",
       "      <th>273</th>\n",
       "      <td>0.047002</td>\n",
       "    </tr>\n",
       "  </tbody>\n",
       "</table>\n",
       "</div>"
      ],
      "text/plain": [
       "     Predicted Share\n",
       "264         0.007772\n",
       "265         0.024093\n",
       "266         0.011023\n",
       "267         0.197300\n",
       "268        -0.002102\n",
       "269        -0.014238\n",
       "270        -0.003205\n",
       "271        -0.018103\n",
       "272        -0.007461\n",
       "273         0.047002"
      ]
     },
     "execution_count": 19,
     "metadata": {},
     "output_type": "execute_result"
    }
   ],
   "source": [
    "pred.head(10)"
   ]
  },
  {
   "cell_type": "markdown",
   "id": "786febc8-aa74-4513-8468-d566070128be",
   "metadata": {},
   "source": [
    "Now we need to compare this to our actual share values and then create a way to meassure error so we can examine multiple models."
   ]
  },
  {
   "cell_type": "code",
   "execution_count": 20,
   "id": "a7783541-c99c-4e47-8a00-e71f7e7156dc",
   "metadata": {
    "tags": []
   },
   "outputs": [],
   "source": [
    "results = pd.concat([test[['Player', 'Share']], pred], axis=1)"
   ]
  },
  {
   "cell_type": "code",
   "execution_count": 21,
   "id": "5562a476-acd3-4dc5-b083-c0ce671c7535",
   "metadata": {
    "tags": []
   },
   "outputs": [
    {
     "data": {
      "text/html": [
       "<div>\n",
       "<style scoped>\n",
       "    .dataframe tbody tr th:only-of-type {\n",
       "        vertical-align: middle;\n",
       "    }\n",
       "\n",
       "    .dataframe tbody tr th {\n",
       "        vertical-align: top;\n",
       "    }\n",
       "\n",
       "    .dataframe thead th {\n",
       "        text-align: right;\n",
       "    }\n",
       "</style>\n",
       "<table border=\"1\" class=\"dataframe\">\n",
       "  <thead>\n",
       "    <tr style=\"text-align: right;\">\n",
       "      <th></th>\n",
       "      <th>Player</th>\n",
       "      <th>Share</th>\n",
       "      <th>Predicted Share</th>\n",
       "    </tr>\n",
       "  </thead>\n",
       "  <tbody>\n",
       "    <tr>\n",
       "      <th>16218</th>\n",
       "      <td>Joel Embiid</td>\n",
       "      <td>0.915</td>\n",
       "      <td>0.180187</td>\n",
       "    </tr>\n",
       "    <tr>\n",
       "      <th>789</th>\n",
       "      <td>Nikola Jokić</td>\n",
       "      <td>0.674</td>\n",
       "      <td>0.166851</td>\n",
       "    </tr>\n",
       "    <tr>\n",
       "      <th>267</th>\n",
       "      <td>Giannis Antetokounmpo</td>\n",
       "      <td>0.606</td>\n",
       "      <td>0.197300</td>\n",
       "    </tr>\n",
       "    <tr>\n",
       "      <th>3067</th>\n",
       "      <td>Jayson Tatum</td>\n",
       "      <td>0.280</td>\n",
       "      <td>0.121120</td>\n",
       "    </tr>\n",
       "    <tr>\n",
       "      <th>1375</th>\n",
       "      <td>Shai Gilgeous-Alexander</td>\n",
       "      <td>0.046</td>\n",
       "      <td>0.150190</td>\n",
       "    </tr>\n",
       "    <tr>\n",
       "      <th>14973</th>\n",
       "      <td>Donovan Mitchell</td>\n",
       "      <td>0.030</td>\n",
       "      <td>0.082808</td>\n",
       "    </tr>\n",
       "    <tr>\n",
       "      <th>4561</th>\n",
       "      <td>Domantas Sabonis</td>\n",
       "      <td>0.027</td>\n",
       "      <td>0.091319</td>\n",
       "    </tr>\n",
       "    <tr>\n",
       "      <th>359</th>\n",
       "      <td>Luka Dončić</td>\n",
       "      <td>0.010</td>\n",
       "      <td>0.177000</td>\n",
       "    </tr>\n",
       "    <tr>\n",
       "      <th>7160</th>\n",
       "      <td>Stephen Curry</td>\n",
       "      <td>0.005</td>\n",
       "      <td>0.101524</td>\n",
       "    </tr>\n",
       "    <tr>\n",
       "      <th>11593</th>\n",
       "      <td>Jimmy Butler</td>\n",
       "      <td>0.003</td>\n",
       "      <td>0.109498</td>\n",
       "    </tr>\n",
       "  </tbody>\n",
       "</table>\n",
       "</div>"
      ],
      "text/plain": [
       "                        Player  Share  Predicted Share\n",
       "16218              Joel Embiid  0.915         0.180187\n",
       "789               Nikola Jokić  0.674         0.166851\n",
       "267      Giannis Antetokounmpo  0.606         0.197300\n",
       "3067              Jayson Tatum  0.280         0.121120\n",
       "1375   Shai Gilgeous-Alexander  0.046         0.150190\n",
       "14973         Donovan Mitchell  0.030         0.082808\n",
       "4561          Domantas Sabonis  0.027         0.091319\n",
       "359                Luka Dončić  0.010         0.177000\n",
       "7160             Stephen Curry  0.005         0.101524\n",
       "11593             Jimmy Butler  0.003         0.109498"
      ]
     },
     "execution_count": 21,
     "metadata": {},
     "output_type": "execute_result"
    }
   ],
   "source": [
    "results.sort_values('Share', ascending=False).head(10)"
   ]
  },
  {
   "cell_type": "markdown",
   "id": "72ffdf5d-4838-4db9-a371-667e9f9e0989",
   "metadata": {},
   "source": [
    "We need a way to meassure if this model did a good job so we can compare the performance of multiple models. We want to create a model that does a good job of predicting the Share of the best players so we will take this into consideration when creating an error metric. To do this we need to rank the players based on Share and Predicted Share."
   ]
  },
  {
   "cell_type": "code",
   "execution_count": 22,
   "id": "07ab4b78-cb1a-44eb-8b3e-9f1afa8b0935",
   "metadata": {
    "tags": []
   },
   "outputs": [
    {
     "data": {
      "text/html": [
       "<div>\n",
       "<style scoped>\n",
       "    .dataframe tbody tr th:only-of-type {\n",
       "        vertical-align: middle;\n",
       "    }\n",
       "\n",
       "    .dataframe tbody tr th {\n",
       "        vertical-align: top;\n",
       "    }\n",
       "\n",
       "    .dataframe thead th {\n",
       "        text-align: right;\n",
       "    }\n",
       "</style>\n",
       "<table border=\"1\" class=\"dataframe\">\n",
       "  <thead>\n",
       "    <tr style=\"text-align: right;\">\n",
       "      <th></th>\n",
       "      <th>Player</th>\n",
       "      <th>Share</th>\n",
       "      <th>Predicted Share</th>\n",
       "      <th>Rank</th>\n",
       "    </tr>\n",
       "  </thead>\n",
       "  <tbody>\n",
       "    <tr>\n",
       "      <th>16218</th>\n",
       "      <td>Joel Embiid</td>\n",
       "      <td>0.915</td>\n",
       "      <td>0.180187</td>\n",
       "      <td>1</td>\n",
       "    </tr>\n",
       "    <tr>\n",
       "      <th>789</th>\n",
       "      <td>Nikola Jokić</td>\n",
       "      <td>0.674</td>\n",
       "      <td>0.166851</td>\n",
       "      <td>2</td>\n",
       "    </tr>\n",
       "    <tr>\n",
       "      <th>267</th>\n",
       "      <td>Giannis Antetokounmpo</td>\n",
       "      <td>0.606</td>\n",
       "      <td>0.197300</td>\n",
       "      <td>3</td>\n",
       "    </tr>\n",
       "    <tr>\n",
       "      <th>3067</th>\n",
       "      <td>Jayson Tatum</td>\n",
       "      <td>0.280</td>\n",
       "      <td>0.121120</td>\n",
       "      <td>4</td>\n",
       "    </tr>\n",
       "    <tr>\n",
       "      <th>1375</th>\n",
       "      <td>Shai Gilgeous-Alexander</td>\n",
       "      <td>0.046</td>\n",
       "      <td>0.150190</td>\n",
       "      <td>5</td>\n",
       "    </tr>\n",
       "    <tr>\n",
       "      <th>14973</th>\n",
       "      <td>Donovan Mitchell</td>\n",
       "      <td>0.030</td>\n",
       "      <td>0.082808</td>\n",
       "      <td>6</td>\n",
       "    </tr>\n",
       "  </tbody>\n",
       "</table>\n",
       "</div>"
      ],
      "text/plain": [
       "                        Player  Share  Predicted Share  Rank\n",
       "16218              Joel Embiid  0.915         0.180187     1\n",
       "789               Nikola Jokić  0.674         0.166851     2\n",
       "267      Giannis Antetokounmpo  0.606         0.197300     3\n",
       "3067              Jayson Tatum  0.280         0.121120     4\n",
       "1375   Shai Gilgeous-Alexander  0.046         0.150190     5\n",
       "14973         Donovan Mitchell  0.030         0.082808     6"
      ]
     },
     "execution_count": 22,
     "metadata": {},
     "output_type": "execute_result"
    }
   ],
   "source": [
    "results = results.sort_values('Share', ascending=False)\n",
    "results['Rank'] = results['Share'].rank(ascending=False).astype(int)\n",
    "results.head(6)"
   ]
  },
  {
   "cell_type": "code",
   "execution_count": 23,
   "id": "ca064b9d-f95b-4924-b785-3ea5f34f44a0",
   "metadata": {
    "tags": []
   },
   "outputs": [
    {
     "data": {
      "text/html": [
       "<div>\n",
       "<style scoped>\n",
       "    .dataframe tbody tr th:only-of-type {\n",
       "        vertical-align: middle;\n",
       "    }\n",
       "\n",
       "    .dataframe tbody tr th {\n",
       "        vertical-align: top;\n",
       "    }\n",
       "\n",
       "    .dataframe thead th {\n",
       "        text-align: right;\n",
       "    }\n",
       "</style>\n",
       "<table border=\"1\" class=\"dataframe\">\n",
       "  <thead>\n",
       "    <tr style=\"text-align: right;\">\n",
       "      <th></th>\n",
       "      <th>Player</th>\n",
       "      <th>Share</th>\n",
       "      <th>Predicted Share</th>\n",
       "      <th>Rank</th>\n",
       "      <th>Predicted Rank</th>\n",
       "    </tr>\n",
       "  </thead>\n",
       "  <tbody>\n",
       "    <tr>\n",
       "      <th>267</th>\n",
       "      <td>Giannis Antetokounmpo</td>\n",
       "      <td>0.606</td>\n",
       "      <td>0.197300</td>\n",
       "      <td>3</td>\n",
       "      <td>1</td>\n",
       "    </tr>\n",
       "    <tr>\n",
       "      <th>16218</th>\n",
       "      <td>Joel Embiid</td>\n",
       "      <td>0.915</td>\n",
       "      <td>0.180187</td>\n",
       "      <td>1</td>\n",
       "      <td>2</td>\n",
       "    </tr>\n",
       "    <tr>\n",
       "      <th>359</th>\n",
       "      <td>Luka Dončić</td>\n",
       "      <td>0.010</td>\n",
       "      <td>0.177000</td>\n",
       "      <td>8</td>\n",
       "      <td>3</td>\n",
       "    </tr>\n",
       "    <tr>\n",
       "      <th>789</th>\n",
       "      <td>Nikola Jokić</td>\n",
       "      <td>0.674</td>\n",
       "      <td>0.166851</td>\n",
       "      <td>2</td>\n",
       "      <td>4</td>\n",
       "    </tr>\n",
       "    <tr>\n",
       "      <th>1375</th>\n",
       "      <td>Shai Gilgeous-Alexander</td>\n",
       "      <td>0.046</td>\n",
       "      <td>0.150190</td>\n",
       "      <td>5</td>\n",
       "      <td>5</td>\n",
       "    </tr>\n",
       "    <tr>\n",
       "      <th>9153</th>\n",
       "      <td>LeBron James</td>\n",
       "      <td>0.000</td>\n",
       "      <td>0.134393</td>\n",
       "      <td>276</td>\n",
       "      <td>6</td>\n",
       "    </tr>\n",
       "  </tbody>\n",
       "</table>\n",
       "</div>"
      ],
      "text/plain": [
       "                        Player  Share  Predicted Share  Rank  Predicted Rank\n",
       "267      Giannis Antetokounmpo  0.606         0.197300     3               1\n",
       "16218              Joel Embiid  0.915         0.180187     1               2\n",
       "359                Luka Dončić  0.010         0.177000     8               3\n",
       "789               Nikola Jokić  0.674         0.166851     2               4\n",
       "1375   Shai Gilgeous-Alexander  0.046         0.150190     5               5\n",
       "9153              LeBron James  0.000         0.134393   276               6"
      ]
     },
     "execution_count": 23,
     "metadata": {},
     "output_type": "execute_result"
    }
   ],
   "source": [
    "results = results.sort_values('Predicted Share', ascending=False)\n",
    "results['Predicted Rank'] = results['Predicted Share'].rank(ascending=False).astype(int)\n",
    "results.head(6)"
   ]
  },
  {
   "cell_type": "code",
   "execution_count": 24,
   "id": "86f31af5-b366-4edb-b254-21d463c9aae0",
   "metadata": {
    "tags": []
   },
   "outputs": [],
   "source": [
    "results['Difference'] = results['Rank'] - results['Predicted Rank']"
   ]
  },
  {
   "cell_type": "code",
   "execution_count": 25,
   "id": "e3982738-dc7d-45b6-844e-9977c8553eaf",
   "metadata": {
    "tags": []
   },
   "outputs": [
    {
     "data": {
      "text/html": [
       "<div>\n",
       "<style scoped>\n",
       "    .dataframe tbody tr th:only-of-type {\n",
       "        vertical-align: middle;\n",
       "    }\n",
       "\n",
       "    .dataframe tbody tr th {\n",
       "        vertical-align: top;\n",
       "    }\n",
       "\n",
       "    .dataframe thead th {\n",
       "        text-align: right;\n",
       "    }\n",
       "</style>\n",
       "<table border=\"1\" class=\"dataframe\">\n",
       "  <thead>\n",
       "    <tr style=\"text-align: right;\">\n",
       "      <th></th>\n",
       "      <th>Player</th>\n",
       "      <th>Share</th>\n",
       "      <th>Predicted Share</th>\n",
       "      <th>Rank</th>\n",
       "      <th>Predicted Rank</th>\n",
       "      <th>Difference</th>\n",
       "    </tr>\n",
       "  </thead>\n",
       "  <tbody>\n",
       "    <tr>\n",
       "      <th>14973</th>\n",
       "      <td>Donovan Mitchell</td>\n",
       "      <td>0.030</td>\n",
       "      <td>0.082808</td>\n",
       "      <td>6</td>\n",
       "      <td>21</td>\n",
       "      <td>-15</td>\n",
       "    </tr>\n",
       "    <tr>\n",
       "      <th>3067</th>\n",
       "      <td>Jayson Tatum</td>\n",
       "      <td>0.280</td>\n",
       "      <td>0.121120</td>\n",
       "      <td>4</td>\n",
       "      <td>9</td>\n",
       "      <td>-5</td>\n",
       "    </tr>\n",
       "    <tr>\n",
       "      <th>789</th>\n",
       "      <td>Nikola Jokić</td>\n",
       "      <td>0.674</td>\n",
       "      <td>0.166851</td>\n",
       "      <td>2</td>\n",
       "      <td>4</td>\n",
       "      <td>-2</td>\n",
       "    </tr>\n",
       "    <tr>\n",
       "      <th>16218</th>\n",
       "      <td>Joel Embiid</td>\n",
       "      <td>0.915</td>\n",
       "      <td>0.180187</td>\n",
       "      <td>1</td>\n",
       "      <td>2</td>\n",
       "      <td>-1</td>\n",
       "    </tr>\n",
       "    <tr>\n",
       "      <th>1375</th>\n",
       "      <td>Shai Gilgeous-Alexander</td>\n",
       "      <td>0.046</td>\n",
       "      <td>0.150190</td>\n",
       "      <td>5</td>\n",
       "      <td>5</td>\n",
       "      <td>0</td>\n",
       "    </tr>\n",
       "    <tr>\n",
       "      <th>267</th>\n",
       "      <td>Giannis Antetokounmpo</td>\n",
       "      <td>0.606</td>\n",
       "      <td>0.197300</td>\n",
       "      <td>3</td>\n",
       "      <td>1</td>\n",
       "      <td>2</td>\n",
       "    </tr>\n",
       "  </tbody>\n",
       "</table>\n",
       "</div>"
      ],
      "text/plain": [
       "                        Player  Share  Predicted Share  Rank  Predicted Rank  \\\n",
       "14973         Donovan Mitchell  0.030         0.082808     6              21   \n",
       "3067              Jayson Tatum  0.280         0.121120     4               9   \n",
       "789               Nikola Jokić  0.674         0.166851     2               4   \n",
       "16218              Joel Embiid  0.915         0.180187     1               2   \n",
       "1375   Shai Gilgeous-Alexander  0.046         0.150190     5               5   \n",
       "267      Giannis Antetokounmpo  0.606         0.197300     3               1   \n",
       "\n",
       "       Difference  \n",
       "14973         -15  \n",
       "3067           -5  \n",
       "789            -2  \n",
       "16218          -1  \n",
       "1375            0  \n",
       "267             2  "
      ]
     },
     "execution_count": 25,
     "metadata": {},
     "output_type": "execute_result"
    }
   ],
   "source": [
    "results[results['Rank'] <= 6].sort_values('Difference', ascending=True)"
   ]
  },
  {
   "cell_type": "code",
   "execution_count": 46,
   "id": "70d108d5-15af-4253-aa1e-5713654b0fac",
   "metadata": {
    "tags": []
   },
   "outputs": [],
   "source": [
    "def ranks(df):\n",
    "    df = df.sort_values('Share', ascending=False)\n",
    "    df['Rank'] = df['Share'].rank(ascending=False).astype(int)\n",
    "    df = df.sort_values('Predicted Share', ascending=False)  \n",
    "    df['Predicted Rank'] = df['Predicted Share'].rank(ascending=False).astype(int)\n",
    "    df['Difference'] = df['Rank'] - df['Predicted Rank']\n",
    "    \n",
    "    return df"
   ]
  },
  {
   "cell_type": "markdown",
   "id": "0408be08-04f3-4adb-b118-95b96ec6d48f",
   "metadata": {},
   "source": [
    "To create an error metric we will base it on the top 6 ranks. For example, our model predicted Shai Gilgeous-Alexander would be in the top 6 and he was, so we would not be penalized. However, our model predicted Donovan Mitchell would be 26th and he finished in the top 6 so we would be penalized."
   ]
  },
  {
   "cell_type": "code",
   "execution_count": 26,
   "id": "889e3bb6-97b0-497e-a269-ce31f8c49e62",
   "metadata": {
    "tags": []
   },
   "outputs": [],
   "source": [
    "#Error metric function\n",
    "def error_metric(results):\n",
    "    scores=[]\n",
    "    results = results.sort_values('Share', ascending=False)\n",
    "    for index, row in results.iterrows():\n",
    "        if row['Rank'] <= 6 and row['Predicted Rank'] <= 6:\n",
    "            scores.append(1)\n",
    "        elif row['Predicted Rank'] > 6 and row['Rank'] <= 6:\n",
    "            scores.append(row['Rank'] / row['Predicted Rank'])\n",
    "        \n",
    "    return sum(scores) / 6\n",
    "        "
   ]
  },
  {
   "cell_type": "code",
   "execution_count": 27,
   "id": "344fc858-d731-40e2-bab1-bb11871f1741",
   "metadata": {
    "tags": []
   },
   "outputs": [
    {
     "data": {
      "text/plain": [
       "0.7883597883597884"
      ]
     },
     "execution_count": 27,
     "metadata": {},
     "output_type": "execute_result"
    }
   ],
   "source": [
    "error_metric(results)"
   ]
  },
  {
   "cell_type": "markdown",
   "id": "494b3bfd-c1ca-4a2d-8ca9-a323bdf4cad3",
   "metadata": {},
   "source": [
    "Note we want this number to be close to one. A value of one signifies correctly predicting the top 6 players. One thing to note, we want to be able to test the results for multiple years. This is because it is possible the year 2023 was unique and our model cannot be generalized to all years. Lets look at results for multiple years. Once we have done this, we can look into different models."
   ]
  },
  {
   "cell_type": "code",
   "execution_count": 28,
   "id": "22c95fbf-00f2-4ec2-a748-3dbb5be074a2",
   "metadata": {
    "tags": []
   },
   "outputs": [],
   "source": [
    "def backtesting(model):\n",
    "    years = list(range(1987, 2024))\n",
    "    scores = []\n",
    "    \n",
    "    for year in years[23:]:\n",
    "        train = df_with_dummies[df_with_dummies['Year'] < year]\n",
    "        test = df_with_dummies[df_with_dummies['Year'] == year]\n",
    "        \n",
    "        X_train = train[features]\n",
    "        y_train = train['Share']\n",
    "        X_test = test[features]\n",
    "        \n",
    "        model.fit(X_train, y_train)\n",
    "        y_pred = model.predict(X_test)\n",
    "        results = test[['Player', 'Share']].copy()\n",
    "        results['Predicted Share'] = y_pred\n",
    "        results['Rank'] = results['Share'].rank(ascending=False, method='first').astype(int)\n",
    "        results['Predicted Rank'] = results['Predicted Share'].rank(ascending=False, method='first').astype(int)\n",
    "        \n",
    "        scores.append(error_metric(results))\n",
    "        \n",
    "    return sum(scores) / len(scores)\n"
   ]
  },
  {
   "cell_type": "code",
   "execution_count": 29,
   "id": "c7c96c3c-a8ec-4b59-8006-03e5940530cd",
   "metadata": {
    "tags": []
   },
   "outputs": [
    {
     "name": "stdout",
     "output_type": "stream",
     "text": [
      "0.7907361597837789\n"
     ]
    }
   ],
   "source": [
    "Ridge = backtesting(Ridge)\n",
    "print(Ridge)"
   ]
  },
  {
   "cell_type": "code",
   "execution_count": 30,
   "id": "667dd123-50b8-40e0-bf67-608ba30b0804",
   "metadata": {
    "tags": []
   },
   "outputs": [
    {
     "data": {
      "text/html": [
       "<div>\n",
       "<style scoped>\n",
       "    .dataframe tbody tr th:only-of-type {\n",
       "        vertical-align: middle;\n",
       "    }\n",
       "\n",
       "    .dataframe tbody tr th {\n",
       "        vertical-align: top;\n",
       "    }\n",
       "\n",
       "    .dataframe thead th {\n",
       "        text-align: right;\n",
       "    }\n",
       "</style>\n",
       "<table border=\"1\" class=\"dataframe\">\n",
       "  <thead>\n",
       "    <tr style=\"text-align: right;\">\n",
       "      <th></th>\n",
       "      <th>Model</th>\n",
       "      <th>Results</th>\n",
       "    </tr>\n",
       "  </thead>\n",
       "  <tbody>\n",
       "    <tr>\n",
       "      <th>0</th>\n",
       "      <td>Ridge</td>\n",
       "      <td>0.790736</td>\n",
       "    </tr>\n",
       "  </tbody>\n",
       "</table>\n",
       "</div>"
      ],
      "text/plain": [
       "   Model   Results\n",
       "0  Ridge  0.790736"
      ]
     },
     "execution_count": 30,
     "metadata": {},
     "output_type": "execute_result"
    }
   ],
   "source": [
    "#Define Results DF\n",
    "results_df = pd.DataFrame(columns=['Model', 'Results'])\n",
    "results_df.append({'Model': 'Ridge', 'Results': Ridge}, ignore_index=True)"
   ]
  },
  {
   "cell_type": "markdown",
   "id": "10ab0cad-95fc-4c57-8e43-27d515491c00",
   "metadata": {},
   "source": [
    "It looks like our model performed a little better than just checking 2023; however, no major difference which is good. Now let's look at the performance of multiple models."
   ]
  },
  {
   "cell_type": "code",
   "execution_count": 31,
   "id": "ca9399de-bec3-4ecf-ab95-ec3986305d49",
   "metadata": {
    "tags": []
   },
   "outputs": [],
   "source": [
    "#Models\n",
    "models = {'LinReg': LinearRegression(),\n",
    "          'Lasso': Lasso(alpha=0.1),\n",
    "          'Random Forest': RandomForestRegressor(random_state=123, n_jobs=-1),\n",
    "          'KNN': KNeighborsRegressor(),\n",
    "          'Gradient Boost': GradientBoostingRegressor(random_state=123),\n",
    "         }\n",
    "\n",
    "#Generate results\n",
    "for model_name, model_instance in models.items():\n",
    "    results = backtesting(model_instance)  # Call your backtesting function here\n",
    "    results_df = results_df.append({'Model': model_name, 'Results': results}, ignore_index=True)"
   ]
  },
  {
   "cell_type": "code",
   "execution_count": 32,
   "id": "6605f923-0a23-45b7-b496-c06c64e276a7",
   "metadata": {
    "tags": []
   },
   "outputs": [],
   "source": [
    "Ridge_score = {\"Model\": \"Ridge\", \"Results\": Ridge}\n",
    "results_df = results_df.append(Ridge_score, ignore_index=True)"
   ]
  },
  {
   "cell_type": "code",
   "execution_count": 33,
   "id": "f946ad8b-162f-4c38-8590-a5a3bf4b3f32",
   "metadata": {
    "tags": []
   },
   "outputs": [
    {
     "data": {
      "text/html": [
       "<div>\n",
       "<style scoped>\n",
       "    .dataframe tbody tr th:only-of-type {\n",
       "        vertical-align: middle;\n",
       "    }\n",
       "\n",
       "    .dataframe tbody tr th {\n",
       "        vertical-align: top;\n",
       "    }\n",
       "\n",
       "    .dataframe thead th {\n",
       "        text-align: right;\n",
       "    }\n",
       "</style>\n",
       "<table border=\"1\" class=\"dataframe\">\n",
       "  <thead>\n",
       "    <tr style=\"text-align: right;\">\n",
       "      <th></th>\n",
       "      <th>Model</th>\n",
       "      <th>Results</th>\n",
       "    </tr>\n",
       "  </thead>\n",
       "  <tbody>\n",
       "    <tr>\n",
       "      <th>2</th>\n",
       "      <td>Random Forest</td>\n",
       "      <td>0.817981</td>\n",
       "    </tr>\n",
       "    <tr>\n",
       "      <th>3</th>\n",
       "      <td>KNN</td>\n",
       "      <td>0.806624</td>\n",
       "    </tr>\n",
       "    <tr>\n",
       "      <th>4</th>\n",
       "      <td>Gradient Boost</td>\n",
       "      <td>0.799862</td>\n",
       "    </tr>\n",
       "    <tr>\n",
       "      <th>0</th>\n",
       "      <td>LinReg</td>\n",
       "      <td>0.794931</td>\n",
       "    </tr>\n",
       "    <tr>\n",
       "      <th>5</th>\n",
       "      <td>Ridge</td>\n",
       "      <td>0.790736</td>\n",
       "    </tr>\n",
       "    <tr>\n",
       "      <th>1</th>\n",
       "      <td>Lasso</td>\n",
       "      <td>0.132344</td>\n",
       "    </tr>\n",
       "  </tbody>\n",
       "</table>\n",
       "</div>"
      ],
      "text/plain": [
       "            Model   Results\n",
       "2   Random Forest  0.817981\n",
       "3             KNN  0.806624\n",
       "4  Gradient Boost  0.799862\n",
       "0          LinReg  0.794931\n",
       "5           Ridge  0.790736\n",
       "1           Lasso  0.132344"
      ]
     },
     "execution_count": 33,
     "metadata": {},
     "output_type": "execute_result"
    }
   ],
   "source": [
    "results_df.sort_values('Results', ascending=False)"
   ]
  },
  {
   "cell_type": "markdown",
   "id": "6301def3-910f-45c8-a788-c7f20fc08710",
   "metadata": {},
   "source": [
    "It looks like Random Forest did the best out of the six models that we tested. Going forward I want to do hyperparameter tuning on the random forest model to increase accuracy and prepare the model to make predictions for the 2023-2024 NBA season which starts October 2023."
   ]
  }
 ],
 "metadata": {
  "kernelspec": {
   "display_name": "Python 3 (ipykernel)",
   "language": "python",
   "name": "python3"
  },
  "language_info": {
   "codemirror_mode": {
    "name": "ipython",
    "version": 3
   },
   "file_extension": ".py",
   "mimetype": "text/x-python",
   "name": "python",
   "nbconvert_exporter": "python",
   "pygments_lexer": "ipython3",
   "version": "3.11.3"
  }
 },
 "nbformat": 4,
 "nbformat_minor": 5
}

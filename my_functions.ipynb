{
 "cells": [
  {
   "cell_type": "markdown",
   "id": "c65e694d",
   "metadata": {},
   "source": [
    "This is a notebook containing functions to import into other nothebooks"
   ]
  },
  {
   "cell_type": "code",
   "execution_count": 1,
   "id": "7a2f58c8",
   "metadata": {},
   "outputs": [],
   "source": [
    "#Rank function\n",
    "def ranks(df):\n",
    "    df = df.sort_values('Share', ascending=False)\n",
    "    df['Rank'] = df['Share'].rank(ascending=False).astype(int)\n",
    "    df = df.sort_values('Predicted Share', ascending=False)  \n",
    "    df['Predicted Rank'] = df['Predicted Share'].rank(ascending=False).astype(int)\n",
    "    df['Difference'] = df['Rank'] - df['Predicted Rank']\n",
    "    \n",
    "    return df"
   ]
  }
 ],
 "metadata": {
  "kernelspec": {
   "display_name": "Python 3 (ipykernel)",
   "language": "python",
   "name": "python3"
  },
  "language_info": {
   "codemirror_mode": {
    "name": "ipython",
    "version": 3
   },
   "file_extension": ".py",
   "mimetype": "text/x-python",
   "name": "python",
   "nbconvert_exporter": "python",
   "pygments_lexer": "ipython3",
   "version": "3.11.4"
  }
 },
 "nbformat": 4,
 "nbformat_minor": 5
}

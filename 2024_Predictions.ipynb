{
 "cells": [
  {
   "cell_type": "markdown",
   "id": "f43be09d",
   "metadata": {},
   "source": [
    "# 2024 Predictions"
   ]
  },
  {
   "cell_type": "markdown",
   "id": "b516d809",
   "metadata": {},
   "source": [
    "This notebook will be used to make predictions for the 2024 NBA MVP."
   ]
  },
  {
   "cell_type": "code",
   "execution_count": 1,
   "id": "f06ffb68",
   "metadata": {},
   "outputs": [],
   "source": [
    "#Import libraries\n",
    "import pandas as pd\n",
    "import warnings\n",
    "from sklearn.ensemble import RandomForestRegressor\n",
    "from xgboost import XGBRegressor\n",
    "warnings.filterwarnings(\"ignore\", category=FutureWarning)"
   ]
  },
  {
   "cell_type": "code",
   "execution_count": 2,
   "id": "1a498d8c",
   "metadata": {},
   "outputs": [],
   "source": [
    "#Import data\n",
    "train = pd.read_csv('training2024.csv')\n",
    "train = train[train['Year'] >= 2010]\n",
    "test = pd.read_csv('testing2024.csv')"
   ]
  },
  {
   "cell_type": "markdown",
   "id": "da0a5a0e",
   "metadata": {},
   "source": [
    "In 2024, players must play at least 65 games to be eligible for MVP voting. For this reason, I am filtering the testing data for only players who meet this criteria. However, since this rule was not in place for prior years, I am leaving the training data as is. This is because a player who played under 65 games would still be able to receive MVP votes."
   ]
  },
  {
   "cell_type": "code",
   "execution_count": 3,
   "id": "ce8a259f",
   "metadata": {},
   "outputs": [],
   "source": [
    "#Filter data\n",
    "test = test[test['G'] >= 65]"
   ]
  },
  {
   "cell_type": "code",
   "execution_count": 4,
   "id": "07cc5b18",
   "metadata": {},
   "outputs": [],
   "source": [
    "#Delete extra row\n",
    "del train['Unnamed: 0']\n",
    "del test['Unnamed: 0']"
   ]
  },
  {
   "cell_type": "code",
   "execution_count": 5,
   "id": "42e8de7c",
   "metadata": {},
   "outputs": [],
   "source": [
    "#Define features\n",
    "features = ['FTA', 'W%', 'BLK', 'MP', 'PTS_C', 'DRB_C', 'FGA', 'STL', 'FG%', 'TRB_C', 'TOV', 'PG', 'FT%',\n",
    "           'G', 'C', 'ORB', '2PA', '2P', '2P%', 'Age', 'PF', 'eFG%', '3P%', 'AST_C']"
   ]
  },
  {
   "cell_type": "code",
   "execution_count": 6,
   "id": "7f990980",
   "metadata": {},
   "outputs": [],
   "source": [
    "#Format data\n",
    "X_train = train[features]\n",
    "y_train = train['Share']\n",
    "X_test = test[features]"
   ]
  },
  {
   "cell_type": "markdown",
   "id": "98fd62fb",
   "metadata": {},
   "source": [
    "Boosting"
   ]
  },
  {
   "cell_type": "code",
   "execution_count": 7,
   "id": "7c294e79",
   "metadata": {},
   "outputs": [
    {
     "data": {
      "text/html": [
       "<div>\n",
       "<style scoped>\n",
       "    .dataframe tbody tr th:only-of-type {\n",
       "        vertical-align: middle;\n",
       "    }\n",
       "\n",
       "    .dataframe tbody tr th {\n",
       "        vertical-align: top;\n",
       "    }\n",
       "\n",
       "    .dataframe thead th {\n",
       "        text-align: right;\n",
       "    }\n",
       "</style>\n",
       "<table border=\"1\" class=\"dataframe\">\n",
       "  <thead>\n",
       "    <tr style=\"text-align: right;\">\n",
       "      <th></th>\n",
       "      <th>Player</th>\n",
       "      <th>Predicted Share</th>\n",
       "    </tr>\n",
       "  </thead>\n",
       "  <tbody>\n",
       "    <tr>\n",
       "      <th>314</th>\n",
       "      <td>Giannis Antetokounmpo</td>\n",
       "      <td>0.332592</td>\n",
       "    </tr>\n",
       "    <tr>\n",
       "      <th>398</th>\n",
       "      <td>Shai Gilgeous-Alexander</td>\n",
       "      <td>0.247208</td>\n",
       "    </tr>\n",
       "    <tr>\n",
       "      <th>143</th>\n",
       "      <td>Nikola Jokić</td>\n",
       "      <td>0.227964</td>\n",
       "    </tr>\n",
       "    <tr>\n",
       "      <th>479</th>\n",
       "      <td>De'Aaron Fox</td>\n",
       "      <td>0.044936</td>\n",
       "    </tr>\n",
       "    <tr>\n",
       "      <th>326</th>\n",
       "      <td>Anthony Edwards</td>\n",
       "      <td>0.031534</td>\n",
       "    </tr>\n",
       "  </tbody>\n",
       "</table>\n",
       "</div>"
      ],
      "text/plain": [
       "                      Player  Predicted Share\n",
       "314    Giannis Antetokounmpo         0.332592\n",
       "398  Shai Gilgeous-Alexander         0.247208\n",
       "143             Nikola Jokić         0.227964\n",
       "479             De'Aaron Fox         0.044936\n",
       "326          Anthony Edwards         0.031534"
      ]
     },
     "execution_count": 7,
     "metadata": {},
     "output_type": "execute_result"
    }
   ],
   "source": [
    "#Initialize model\n",
    "boost_mod = XGBRegressor(learning_rate = 0.01, max_depth = 4, n_estimators = 500)\n",
    "\n",
    "#Fit model\n",
    "boost_mod.fit(X_train, y_train)\n",
    "\n",
    "#Predict\n",
    "pred_share = boost_mod.predict(X_test)\n",
    "pred_boost_df = pd.DataFrame(pred_share, columns=['Predicted Share'], index=X_test.index)\n",
    "\n",
    "pred_2024 = pd.concat([test[['Player']], pred_boost_df], axis=1)\n",
    "pred_2024 = pred_2024.sort_values('Predicted Share', ascending = False)\n",
    "pred_2024.head(5)"
   ]
  },
  {
   "cell_type": "markdown",
   "id": "5b52ea94",
   "metadata": {},
   "source": [
    "Random Forest"
   ]
  },
  {
   "cell_type": "code",
   "execution_count": 8,
   "id": "efa57b1c",
   "metadata": {},
   "outputs": [
    {
     "data": {
      "text/html": [
       "<div>\n",
       "<style scoped>\n",
       "    .dataframe tbody tr th:only-of-type {\n",
       "        vertical-align: middle;\n",
       "    }\n",
       "\n",
       "    .dataframe tbody tr th {\n",
       "        vertical-align: top;\n",
       "    }\n",
       "\n",
       "    .dataframe thead th {\n",
       "        text-align: right;\n",
       "    }\n",
       "</style>\n",
       "<table border=\"1\" class=\"dataframe\">\n",
       "  <thead>\n",
       "    <tr style=\"text-align: right;\">\n",
       "      <th></th>\n",
       "      <th>Player</th>\n",
       "      <th>Predicted Share</th>\n",
       "    </tr>\n",
       "  </thead>\n",
       "  <tbody>\n",
       "    <tr>\n",
       "      <th>314</th>\n",
       "      <td>Giannis Antetokounmpo</td>\n",
       "      <td>0.292686</td>\n",
       "    </tr>\n",
       "    <tr>\n",
       "      <th>143</th>\n",
       "      <td>Nikola Jokić</td>\n",
       "      <td>0.092950</td>\n",
       "    </tr>\n",
       "    <tr>\n",
       "      <th>398</th>\n",
       "      <td>Shai Gilgeous-Alexander</td>\n",
       "      <td>0.063820</td>\n",
       "    </tr>\n",
       "    <tr>\n",
       "      <th>242</th>\n",
       "      <td>Anthony Davis</td>\n",
       "      <td>0.021216</td>\n",
       "    </tr>\n",
       "    <tr>\n",
       "      <th>361</th>\n",
       "      <td>Zion Williamson</td>\n",
       "      <td>0.011178</td>\n",
       "    </tr>\n",
       "  </tbody>\n",
       "</table>\n",
       "</div>"
      ],
      "text/plain": [
       "                      Player  Predicted Share\n",
       "314    Giannis Antetokounmpo         0.292686\n",
       "143             Nikola Jokić         0.092950\n",
       "398  Shai Gilgeous-Alexander         0.063820\n",
       "242            Anthony Davis         0.021216\n",
       "361          Zion Williamson         0.011178"
      ]
     },
     "execution_count": 8,
     "metadata": {},
     "output_type": "execute_result"
    }
   ],
   "source": [
    "#Initialize model\n",
    "rf_mod = RandomForestRegressor(max_features = 24, n_estimators = 500)\n",
    "\n",
    "#Fit model\n",
    "rf_mod.fit(X_train, y_train)\n",
    "\n",
    "#Predict\n",
    "pred_share = rf_mod.predict(X_test)\n",
    "pred_rf_df = pd.DataFrame(pred_share, columns=['Predicted Share'], index=X_test.index)\n",
    "\n",
    "pred_2024 = pd.concat([test[['Player']], pred_rf_df], axis=1)\n",
    "pred_2024 = pred_2024.sort_values('Predicted Share', ascending = False)\n",
    "pred_2024.head(5)"
   ]
  },
  {
   "cell_type": "markdown",
   "id": "1efc25f8",
   "metadata": {},
   "source": [
    "Both the random forest and XGBoost models predicted that Giannis would win the MVP. However, Nikola Jokić won the MVP, placing 2nd according to random forest and 3rd to XGBoost. Both models were accurate in predicting that Shai and Jokić would finish in the top three in voting. So why was Giannis predicted to win by both models when he actually finished 4th and only received 1 first-place vote this year? I believe this is because, despite having a high win percentage, the Bucks (Giannis's team) underperformed expectations. This means Giannis, who averaged 30.4 points per game, was both on a winning team and scoring a lot. These were the two most important variables, as seen in the variable_importance notebook. So, going forward, I want to look at a way to measure a team's performance relative to their expectations this season instead of just looking at their overall success."
   ]
  }
 ],
 "metadata": {
  "kernelspec": {
   "display_name": "Python 3 (ipykernel)",
   "language": "python",
   "name": "python3"
  },
  "language_info": {
   "codemirror_mode": {
    "name": "ipython",
    "version": 3
   },
   "file_extension": ".py",
   "mimetype": "text/x-python",
   "name": "python",
   "nbconvert_exporter": "python",
   "pygments_lexer": "ipython3",
   "version": "3.11.4"
  }
 },
 "nbformat": 4,
 "nbformat_minor": 5
}
